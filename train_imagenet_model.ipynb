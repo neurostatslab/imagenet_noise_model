{
 "cells": [
  {
   "cell_type": "markdown",
   "id": "30291992",
   "metadata": {},
   "source": []
  },
  {
   "cell_type": "code",
   "execution_count": null,
   "id": "12fbc20f",
   "metadata": {},
   "outputs": [],
   "source": [
    "from utils import imagenet_dataloaders, train_imagenet_model\n",
    "import matplotlib.pyplot as plt\n",
    "from sklearn.decomposition import PCA\n",
    "import numpy as np\n",
    "import torchvision\n",
    "import torch"
   ]
  },
  {
   "cell_type": "code",
   "execution_count": null,
   "id": "f60f9abf",
   "metadata": {},
   "outputs": [],
   "source": [
    "imagenet_path = \"/tmp/imagenet/\"\n",
    "checkpoint_path = \"/mnt/ceph/users/svenditto/imagenet-simclr/noise015\"\n",
    "checkpoint_version = None\n",
    "load_from_checkpoint = False\n",
    "input_size = 128\n",
    "batch_size = 256\n",
    "subsample = 2\n",
    "num_workers = 8\n",
    "max_epochs = 10\n",
    "max_time = None\n",
    "noise_std = 0.15\n",
    "layer_dim = 96\n",
    "lr = 6e-2\n",
    "momentum = 0.9\n",
    "weight_decay = 5e-4"
   ]
  },
  {
   "cell_type": "code",
   "execution_count": null,
   "id": "2731f3ec",
   "metadata": {},
   "outputs": [],
   "source": [
    "# get data loaders\n",
    "dataloader_train, dataloader_test = imagenet_dataloaders(imagenet_path,\n",
    "    input_size=input_size, \n",
    "    batch_size=batch_size, \n",
    "    subsample=subsample, \n",
    "    num_workers=num_workers\n",
    ")\n",
    "# train the model\n",
    "model = train_imagenet_model(dataloader_train, checkpoint_path, \n",
    "    load_from_checkpoint=load_from_checkpoint, \n",
    "    checkpoint_version=checkpoint_version, \n",
    "    max_time=max_time, \n",
    "    max_epochs=max_epochs,\n",
    "    layer_dim=layer_dim,\n",
    "    noise_std=noise_std,\n",
    "    lr=lr,\n",
    "    momentum=momentum,\n",
    "    weight_decay=weight_decay\n",
    ")\n"
   ]
  }
 ],
 "metadata": {
  "kernelspec": {
   "display_name": "imgnet-gpu",
   "language": "python",
   "name": "imgnet-gpu"
  },
  "language_info": {
   "name": "python",
   "version": "3.11.11"
  }
 },
 "nbformat": 4,
 "nbformat_minor": 5
}
